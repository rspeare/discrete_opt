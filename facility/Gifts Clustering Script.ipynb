{
 "cells": [
  {
   "cell_type": "code",
   "execution_count": 1,
   "metadata": {
    "collapsed": false
   },
   "outputs": [],
   "source": [
    "import facility\n",
    "import pandas as pd\n",
    "import imp \n",
    "import numpy as np\n",
    "imp.reload(facility)\n",
    "f=facility.facility()"
   ]
  },
  {
   "cell_type": "code",
   "execution_count": null,
   "metadata": {
    "collapsed": false
   },
   "outputs": [],
   "source": [
    "dfs=f.get_gifts()\n",
    "dfs.head()"
   ]
  },
  {
   "cell_type": "code",
   "execution_count": null,
   "metadata": {
    "collapsed": false
   },
   "outputs": [],
   "source": [
    "chunks=200\n",
    "iters=int(len(dfs)//chunks) \n",
    "print(iters,chunks)"
   ]
  },
  {
   "cell_type": "code",
   "execution_count": null,
   "metadata": {
    "collapsed": false
   },
   "outputs": [],
   "source": [
    "for i in np.arange(3):\n",
    "    print('clustering chunk '+str(i)+' out of '+str(iters))\n",
    "#    dfs.iloc[i*chunks:(i+1)*chunks]=f.cluster_gifts(True,dfs[i*chunks:(i+1)*chunks])\n",
    "    res=f.cluster_gifts(True,dfs[i*chunks:(i+1)*chunks])\n",
    "    dfs.iloc[i*chunks:(i+1)*chunks]['TripId']=res\n",
    "#    print(len(res))\n",
    "#    print(len(dfs.loc[i*chunks:(i+1)*chunks,'TripId']))\n",
    "\n",
    "#    print(xx[i*chunks:(i+1)*chunks])"
   ]
  },
  {
   "cell_type": "code",
   "execution_count": null,
   "metadata": {
    "collapsed": false
   },
   "outputs": [],
   "source": [
    "dfs.iloc[:600]['GiftId','TripId']"
   ]
  },
  {
   "cell_type": "code",
   "execution_count": null,
   "metadata": {
    "collapsed": false
   },
   "outputs": [],
   "source": [
    "dfs[['GiftId','TripId']].to_csv('gifts_clustered.csv')"
   ]
  },
  {
   "cell_type": "code",
   "execution_count": null,
   "metadata": {
    "collapsed": true
   },
   "outputs": [],
   "source": []
  }
 ],
 "metadata": {
  "kernelspec": {
   "display_name": "Python 2",
   "language": "python",
   "name": "python2"
  },
  "language_info": {
   "codemirror_mode": {
    "name": "ipython",
    "version": 2
   },
   "file_extension": ".py",
   "mimetype": "text/x-python",
   "name": "python",
   "nbconvert_exporter": "python",
   "pygments_lexer": "ipython2",
   "version": "2.7.11"
  }
 },
 "nbformat": 4,
 "nbformat_minor": 0
}
