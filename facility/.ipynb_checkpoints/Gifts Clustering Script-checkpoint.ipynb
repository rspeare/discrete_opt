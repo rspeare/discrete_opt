{
 "cells": [
  {
   "cell_type": "code",
   "execution_count": 5,
   "metadata": {
    "collapsed": false
   },
   "outputs": [],
   "source": [
    "import facility\n",
    "import pandas as pd\n",
    "import imp \n",
    "import numpy as np\n",
    "imp.reload(facility)\n",
    "f=facility.facility()"
   ]
  },
  {
   "cell_type": "code",
   "execution_count": 6,
   "metadata": {
    "collapsed": false
   },
   "outputs": [
    {
     "data": {
      "text/html": [
       "<div>\n",
       "<table border=\"1\" class=\"dataframe\">\n",
       "  <thead>\n",
       "    <tr style=\"text-align: right;\">\n",
       "      <th></th>\n",
       "      <th>GiftId</th>\n",
       "      <th>Latitude</th>\n",
       "      <th>Longitude</th>\n",
       "      <th>Weight</th>\n",
       "      <th>TripId</th>\n",
       "      <th>Capacity</th>\n",
       "    </tr>\n",
       "  </thead>\n",
       "  <tbody>\n",
       "    <tr>\n",
       "      <th>60841</th>\n",
       "      <td>60842</td>\n",
       "      <td>-80.742777</td>\n",
       "      <td>-179.976102</td>\n",
       "      <td>1.000000</td>\n",
       "      <td>60842</td>\n",
       "      <td>990</td>\n",
       "    </tr>\n",
       "    <tr>\n",
       "      <th>41783</th>\n",
       "      <td>41784</td>\n",
       "      <td>-85.437552</td>\n",
       "      <td>-179.966198</td>\n",
       "      <td>1.000000</td>\n",
       "      <td>41784</td>\n",
       "      <td>990</td>\n",
       "    </tr>\n",
       "    <tr>\n",
       "      <th>78515</th>\n",
       "      <td>78516</td>\n",
       "      <td>-89.396996</td>\n",
       "      <td>-179.941943</td>\n",
       "      <td>24.471527</td>\n",
       "      <td>78516</td>\n",
       "      <td>990</td>\n",
       "    </tr>\n",
       "    <tr>\n",
       "      <th>46646</th>\n",
       "      <td>46647</td>\n",
       "      <td>-79.143031</td>\n",
       "      <td>-179.918310</td>\n",
       "      <td>1.000000</td>\n",
       "      <td>46647</td>\n",
       "      <td>990</td>\n",
       "    </tr>\n",
       "    <tr>\n",
       "      <th>12656</th>\n",
       "      <td>12657</td>\n",
       "      <td>-89.270653</td>\n",
       "      <td>-179.913867</td>\n",
       "      <td>1.000000</td>\n",
       "      <td>12657</td>\n",
       "      <td>990</td>\n",
       "    </tr>\n",
       "  </tbody>\n",
       "</table>\n",
       "</div>"
      ],
      "text/plain": [
       "       GiftId   Latitude   Longitude     Weight  TripId  Capacity\n",
       "60841   60842 -80.742777 -179.976102   1.000000   60842       990\n",
       "41783   41784 -85.437552 -179.966198   1.000000   41784       990\n",
       "78515   78516 -89.396996 -179.941943  24.471527   78516       990\n",
       "46646   46647 -79.143031 -179.918310   1.000000   46647       990\n",
       "12656   12657 -89.270653 -179.913867   1.000000   12657       990"
      ]
     },
     "execution_count": 6,
     "metadata": {},
     "output_type": "execute_result"
    }
   ],
   "source": [
    "dfs=f.get_gifts()\n",
    "dfs.head()"
   ]
  },
  {
   "cell_type": "code",
   "execution_count": 7,
   "metadata": {
    "collapsed": false
   },
   "outputs": [
    {
     "name": "stdout",
     "output_type": "stream",
     "text": [
      "(1666, 60)\n"
     ]
    }
   ],
   "source": [
    "chunks=60\n",
    "iters=int(len(dfs)//chunks) \n",
    "print(iters,chunks)"
   ]
  },
  {
   "cell_type": "code",
   "execution_count": 8,
   "metadata": {
    "collapsed": false
   },
   "outputs": [
    {
     "name": "stdout",
     "output_type": "stream",
     "text": [
      "clustering chunk 0 out of 1666\n",
      "initializing santa data...\n",
      "creating customer demands (gift weights)...\n",
      "creating distance matrix...\n",
      "passed x vector\n",
      "creating startup costs...\n",
      "creating decision variables...\n",
      "setting objective...\n",
      "cleaning up distance matrix\n",
      "setting constraints...\n",
      "Parameter OutputFlag unchanged\n",
      "   Value: 1  Min: 0  Max: 1  Default: 1\n",
      "Changed value of parameter MIPGap to 0.1\n",
      "   Prev: 0.0001  Min: 0.0  Max: 1e+100  Default: 0.0001\n",
      "Changed value of parameter TimeLimit to 1200.0\n",
      "   Prev: 1e+100  Min: 0.0  Max: 1e+100  Default: 1e+100\n",
      "optimizing...\n",
      "Optimize a model with 120 rows, 3660 columns and 7260 nonzeros\n",
      "Coefficient statistics:\n",
      "  Matrix range    [1e+00, 1e+03]\n",
      "  Objective range [1e-01, 2e+04]\n",
      "  Bounds range    [1e+00, 1e+00]\n",
      "  RHS range       [1e+00, 1e+00]\n",
      "Found heuristic solution: objective 516391\n",
      "Presolve time: 0.01s\n",
      "Presolved: 120 rows, 3660 columns, 7260 nonzeros\n",
      "Variable types: 0 continuous, 3660 integer (3660 binary)\n",
      "\n",
      "Root relaxation: objective 5.982796e+03, 372 iterations, 0.01 seconds\n",
      "\n",
      "    Nodes    |    Current Node    |     Objective Bounds      |     Work\n",
      " Expl Unexpl |  Obj  Depth IntInf | Incumbent    BestBd   Gap | It/Node Time\n",
      "\n",
      "     0     0 5982.79641    0   30 516391.092 5982.79641  98.8%     -    0s\n",
      "H    0     0                    361974.03996 5982.79641  98.3%     -    0s\n",
      "H    0     0                    226427.69520 5982.79641  97.4%     -    0s\n",
      "H    0     0                    223031.37668 5982.79641  97.3%     -    0s\n",
      "H    0     0                    40429.301136 5982.79641  85.2%     -    0s\n",
      "     0     0 5998.50912    0  112 40429.3011 5998.50912  85.2%     -    0s\n",
      "     0     0 6008.36400    0  148 40429.3011 6008.36400  85.1%     -    0s\n",
      "     0     0 6008.63725    0  151 40429.3011 6008.63725  85.1%     -    0s\n",
      "     0     0 6016.75698    0  131 40429.3011 6016.75698  85.1%     -    0s\n",
      "     0     0 6017.94774    0  135 40429.3011 6017.94774  85.1%     -    0s\n",
      "     0     0 6120.42033    0  221 40429.3011 6120.42033  84.9%     -    0s\n",
      "     0     0 6120.56120    0  125 40429.3011 6120.56120  84.9%     -    0s\n",
      "     0     0 6122.80768    0   71 40429.3011 6122.80768  84.9%     -    0s\n",
      "     0     0 6125.07100    0  152 40429.3011 6125.07100  84.8%     -    0s\n",
      "     0     2 6125.07100    0  152 40429.3011 6125.07100  84.8%     -    0s\n",
      "*   11    11               3    21631.586285 6126.02384  71.7%  25.2    0s\n",
      "H   63    39                    12709.868670 6134.10269  51.7%  22.0    0s\n",
      "*   84     0              54    7896.3378167 6134.10269  22.3%  21.6    0s\n",
      "\n",
      "Cutting planes:\n",
      "  Cover: 135\n",
      "  Clique: 128\n",
      "  MIR: 11\n",
      "  Zero half: 1\n",
      "\n",
      "Explored 120 nodes (2702 simplex iterations) in 0.45 seconds\n",
      "Thread count was 4 (of 4 available processors)\n",
      "\n",
      "Optimal solution found (tolerance 1.00e-01)\n",
      "Best objective 7.896337816693e+03, best bound 7.893485706306e+03, gap 0.0361%\n"
     ]
    },
    {
     "ename": "ValueError",
     "evalue": "Must have equal len keys and value when setting with an iterable",
     "output_type": "error",
     "traceback": [
      "\u001b[0;31m---------------------------------------------------------------------------\u001b[0m",
      "\u001b[0;31mValueError\u001b[0m                                Traceback (most recent call last)",
      "\u001b[0;32m<ipython-input-8-39bfee71ac39>\u001b[0m in \u001b[0;36m<module>\u001b[0;34m()\u001b[0m\n\u001b[1;32m      2\u001b[0m     \u001b[0;32mprint\u001b[0m\u001b[0;34m(\u001b[0m\u001b[0;34m'clustering chunk '\u001b[0m\u001b[0;34m+\u001b[0m\u001b[0mstr\u001b[0m\u001b[0;34m(\u001b[0m\u001b[0mi\u001b[0m\u001b[0;34m)\u001b[0m\u001b[0;34m+\u001b[0m\u001b[0;34m' out of '\u001b[0m\u001b[0;34m+\u001b[0m\u001b[0mstr\u001b[0m\u001b[0;34m(\u001b[0m\u001b[0miters\u001b[0m\u001b[0;34m)\u001b[0m\u001b[0;34m)\u001b[0m\u001b[0;34m\u001b[0m\u001b[0m\n\u001b[1;32m      3\u001b[0m \u001b[0;31m#    dfs.iloc[i*chunks:(i+1)*chunks]=f.cluster_gifts(True,dfs[i*chunks:(i+1)*chunks])\u001b[0m\u001b[0;34m\u001b[0m\u001b[0;34m\u001b[0m\u001b[0m\n\u001b[0;32m----> 4\u001b[0;31m     \u001b[0mdfs\u001b[0m\u001b[0;34m.\u001b[0m\u001b[0mloc\u001b[0m\u001b[0;34m[\u001b[0m\u001b[0mi\u001b[0m\u001b[0;34m*\u001b[0m\u001b[0mchunks\u001b[0m\u001b[0;34m:\u001b[0m\u001b[0;34m(\u001b[0m\u001b[0mi\u001b[0m\u001b[0;34m+\u001b[0m\u001b[0;36m1\u001b[0m\u001b[0;34m)\u001b[0m\u001b[0;34m*\u001b[0m\u001b[0mchunks\u001b[0m\u001b[0;34m,\u001b[0m\u001b[0;34m'TripId'\u001b[0m\u001b[0;34m]\u001b[0m\u001b[0;34m=\u001b[0m\u001b[0mf\u001b[0m\u001b[0;34m.\u001b[0m\u001b[0mcluster_gifts\u001b[0m\u001b[0;34m(\u001b[0m\u001b[0mTrue\u001b[0m\u001b[0;34m,\u001b[0m\u001b[0mdfs\u001b[0m\u001b[0;34m[\u001b[0m\u001b[0mi\u001b[0m\u001b[0;34m*\u001b[0m\u001b[0mchunks\u001b[0m\u001b[0;34m:\u001b[0m\u001b[0;34m(\u001b[0m\u001b[0mi\u001b[0m\u001b[0;34m+\u001b[0m\u001b[0;36m1\u001b[0m\u001b[0;34m)\u001b[0m\u001b[0;34m*\u001b[0m\u001b[0mchunks\u001b[0m\u001b[0;34m]\u001b[0m\u001b[0;34m)\u001b[0m\u001b[0;34m\u001b[0m\u001b[0m\n\u001b[0m\u001b[1;32m      5\u001b[0m \u001b[0;34m\u001b[0m\u001b[0m\n\u001b[1;32m      6\u001b[0m \u001b[0;31m#    print(xx[i*chunks:(i+1)*chunks])\u001b[0m\u001b[0;34m\u001b[0m\u001b[0;34m\u001b[0m\u001b[0m\n",
      "\u001b[0;32m/Users/rspeare/miniconda3/envs/py2/lib/python2.7/site-packages/pandas/core/indexing.pyc\u001b[0m in \u001b[0;36m__setitem__\u001b[0;34m(self, key, value)\u001b[0m\n\u001b[1;32m    115\u001b[0m     \u001b[0;32mdef\u001b[0m \u001b[0m__setitem__\u001b[0m\u001b[0;34m(\u001b[0m\u001b[0mself\u001b[0m\u001b[0;34m,\u001b[0m \u001b[0mkey\u001b[0m\u001b[0;34m,\u001b[0m \u001b[0mvalue\u001b[0m\u001b[0;34m)\u001b[0m\u001b[0;34m:\u001b[0m\u001b[0;34m\u001b[0m\u001b[0m\n\u001b[1;32m    116\u001b[0m         \u001b[0mindexer\u001b[0m \u001b[0;34m=\u001b[0m \u001b[0mself\u001b[0m\u001b[0;34m.\u001b[0m\u001b[0m_get_setitem_indexer\u001b[0m\u001b[0;34m(\u001b[0m\u001b[0mkey\u001b[0m\u001b[0;34m)\u001b[0m\u001b[0;34m\u001b[0m\u001b[0m\n\u001b[0;32m--> 117\u001b[0;31m         \u001b[0mself\u001b[0m\u001b[0;34m.\u001b[0m\u001b[0m_setitem_with_indexer\u001b[0m\u001b[0;34m(\u001b[0m\u001b[0mindexer\u001b[0m\u001b[0;34m,\u001b[0m \u001b[0mvalue\u001b[0m\u001b[0;34m)\u001b[0m\u001b[0;34m\u001b[0m\u001b[0m\n\u001b[0m\u001b[1;32m    118\u001b[0m \u001b[0;34m\u001b[0m\u001b[0m\n\u001b[1;32m    119\u001b[0m     \u001b[0;32mdef\u001b[0m \u001b[0m_has_valid_type\u001b[0m\u001b[0;34m(\u001b[0m\u001b[0mself\u001b[0m\u001b[0;34m,\u001b[0m \u001b[0mk\u001b[0m\u001b[0;34m,\u001b[0m \u001b[0maxis\u001b[0m\u001b[0;34m)\u001b[0m\u001b[0;34m:\u001b[0m\u001b[0;34m\u001b[0m\u001b[0m\n",
      "\u001b[0;32m/Users/rspeare/miniconda3/envs/py2/lib/python2.7/site-packages/pandas/core/indexing.pyc\u001b[0m in \u001b[0;36m_setitem_with_indexer\u001b[0;34m(self, indexer, value)\u001b[0m\n\u001b[1;32m    486\u001b[0m \u001b[0;34m\u001b[0m\u001b[0m\n\u001b[1;32m    487\u001b[0m                     \u001b[0;32mif\u001b[0m \u001b[0mlen\u001b[0m\u001b[0;34m(\u001b[0m\u001b[0mlabels\u001b[0m\u001b[0;34m)\u001b[0m \u001b[0;34m!=\u001b[0m \u001b[0mlen\u001b[0m\u001b[0;34m(\u001b[0m\u001b[0mvalue\u001b[0m\u001b[0;34m)\u001b[0m\u001b[0;34m:\u001b[0m\u001b[0;34m\u001b[0m\u001b[0m\n\u001b[0;32m--> 488\u001b[0;31m                         raise ValueError('Must have equal len keys and value '\n\u001b[0m\u001b[1;32m    489\u001b[0m                                          'when setting with an iterable')\n\u001b[1;32m    490\u001b[0m \u001b[0;34m\u001b[0m\u001b[0m\n",
      "\u001b[0;31mValueError\u001b[0m: Must have equal len keys and value when setting with an iterable"
     ]
    }
   ],
   "source": [
    "for i in np.arange(2):\n",
    "    print('clustering chunk '+str(i)+' out of '+str(iters))\n",
    "#    dfs.iloc[i*chunks:(i+1)*chunks]=f.cluster_gifts(True,dfs[i*chunks:(i+1)*chunks])\n",
    "    res=f.cluster_gifts(True,dfs[i*chunks:(i+1)*chunks])\n",
    "    print(len(res))\n",
    "    print(len(dfs.loc[i*chunks:(i+1)*chunks,'TripId']))\n",
    "\n",
    "#    print(xx[i*chunks:(i+1)*chunks])"
   ]
  },
  {
   "cell_type": "code",
   "execution_count": null,
   "metadata": {
    "collapsed": false
   },
   "outputs": [],
   "source": [
    "dfs.iloc[:1000]\n",
    " "
   ]
  },
  {
   "cell_type": "code",
   "execution_count": null,
   "metadata": {
    "collapsed": false
   },
   "outputs": [],
   "source": [
    "print(len(dfs.iloc[0:1000]['TripId'].unique()))\n",
    "print(len(dfs.iloc[0:1000]['GiftId'].unique()))\n"
   ]
  },
  {
   "cell_type": "code",
   "execution_count": null,
   "metadata": {
    "collapsed": false
   },
   "outputs": [],
   "source": [
    "dfs[['GiftId','TripId']].to_csv('gifts_clustered.csv')"
   ]
  },
  {
   "cell_type": "code",
   "execution_count": null,
   "metadata": {
    "collapsed": true
   },
   "outputs": [],
   "source": []
  }
 ],
 "metadata": {
  "kernelspec": {
   "display_name": "Python 2",
   "language": "python",
   "name": "python2"
  },
  "language_info": {
   "codemirror_mode": {
    "name": "ipython",
    "version": 2
   },
   "file_extension": ".py",
   "mimetype": "text/x-python",
   "name": "python",
   "nbconvert_exporter": "python",
   "pygments_lexer": "ipython2",
   "version": "2.7.11"
  }
 },
 "nbformat": 4,
 "nbformat_minor": 0
}
