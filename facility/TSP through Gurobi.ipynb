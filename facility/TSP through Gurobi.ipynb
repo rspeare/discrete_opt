{
 "cells": [
  {
   "cell_type": "code",
   "execution_count": 1,
   "metadata": {
    "collapsed": true
   },
   "outputs": [],
   "source": [
    "import numpy as np"
   ]
  },
  {
   "cell_type": "code",
   "execution_count": 3,
   "metadata": {
    "collapsed": false
   },
   "outputs": [],
   "source": [
    "n=100\n",
    "np.random.seed(1)\n",
    "points = []\n",
    "for i in range(n):\n",
    "    points.append((np.random.randint(0,100),np.random.randint(0,100)))"
   ]
  },
  {
   "cell_type": "code",
   "execution_count": 4,
   "metadata": {
    "collapsed": false
   },
   "outputs": [
    {
     "data": {
      "text/plain": [
       "[(37, 12),\n",
       " (72, 9),\n",
       " (75, 5),\n",
       " (79, 64),\n",
       " (16, 1),\n",
       " (76, 71),\n",
       " (6, 25),\n",
       " (50, 20),\n",
       " (18, 84),\n",
       " (11, 28),\n",
       " (29, 14),\n",
       " (50, 68),\n",
       " (87, 87),\n",
       " (94, 96),\n",
       " (86, 13),\n",
       " (9, 7),\n",
       " (63, 61),\n",
       " (22, 57),\n",
       " (1, 0),\n",
       " (60, 81),\n",
       " (8, 88),\n",
       " (13, 47),\n",
       " (72, 30),\n",
       " (71, 3),\n",
       " (70, 21),\n",
       " (49, 57),\n",
       " (3, 68),\n",
       " (24, 43),\n",
       " (76, 26),\n",
       " (52, 80),\n",
       " (41, 82),\n",
       " (15, 64),\n",
       " (68, 25),\n",
       " (98, 87),\n",
       " (7, 26),\n",
       " (25, 22),\n",
       " (9, 67),\n",
       " (23, 27),\n",
       " (37, 57),\n",
       " (83, 38),\n",
       " (8, 32),\n",
       " (34, 10),\n",
       " (23, 15),\n",
       " (87, 25),\n",
       " (71, 92),\n",
       " (74, 62),\n",
       " (46, 32),\n",
       " (88, 23),\n",
       " (55, 65),\n",
       " (77, 3),\n",
       " (0, 77),\n",
       " (6, 52),\n",
       " (85, 70),\n",
       " (2, 76),\n",
       " (91, 21),\n",
       " (75, 7),\n",
       " (77, 72),\n",
       " (75, 76),\n",
       " (43, 20),\n",
       " (30, 36),\n",
       " (7, 45),\n",
       " (68, 57),\n",
       " (82, 96),\n",
       " (13, 10),\n",
       " (23, 81),\n",
       " (7, 24),\n",
       " (74, 92),\n",
       " (20, 32),\n",
       " (12, 65),\n",
       " (94, 60),\n",
       " (24, 82),\n",
       " (97, 2),\n",
       " (92, 98),\n",
       " (10, 54),\n",
       " (96, 82),\n",
       " (86, 70),\n",
       " (66, 71),\n",
       " (48, 54),\n",
       " (15, 5),\n",
       " (17, 42),\n",
       " (20, 48),\n",
       " (22, 13),\n",
       " (97, 53),\n",
       " (84, 10),\n",
       " (96, 55),\n",
       " (61, 56),\n",
       " (89, 21),\n",
       " (96, 83),\n",
       " (25, 14),\n",
       " (13, 84),\n",
       " (43, 6),\n",
       " (77, 56),\n",
       " (59, 15),\n",
       " (24, 9),\n",
       " (66, 71),\n",
       " (53, 69),\n",
       " (36, 21),\n",
       " (40, 77),\n",
       " (91, 49),\n",
       " (47, 77)]"
      ]
     },
     "execution_count": 4,
     "metadata": {},
     "output_type": "execute_result"
    }
   ],
   "source": [
    "points"
   ]
  },
  {
   "cell_type": "code",
   "execution_count": null,
   "metadata": {
    "collapsed": true
   },
   "outputs": [],
   "source": []
  }
 ],
 "metadata": {
  "kernelspec": {
   "display_name": "Python 2",
   "language": "python",
   "name": "python2"
  },
  "language_info": {
   "codemirror_mode": {
    "name": "ipython",
    "version": 2
   },
   "file_extension": ".py",
   "mimetype": "text/x-python",
   "name": "python",
   "nbconvert_exporter": "python",
   "pygments_lexer": "ipython2",
   "version": "2.7.11"
  }
 },
 "nbformat": 4,
 "nbformat_minor": 0
}
