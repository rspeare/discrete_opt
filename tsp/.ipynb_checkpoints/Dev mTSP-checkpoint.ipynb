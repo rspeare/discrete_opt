{
 "cells": [
  {
   "cell_type": "code",
   "execution_count": 1,
   "metadata": {
    "collapsed": false
   },
   "outputs": [],
   "source": [
    "import numpy as np\n",
    "import pandas as pd\n",
    "import gurobipy as g\n",
    "import matplotlib.pyplot as plt\n",
    "%matplotlib inline"
   ]
  },
  {
   "cell_type": "code",
   "execution_count": 2,
   "metadata": {
    "collapsed": true
   },
   "outputs": [],
   "source": [
    "def read_infile(file):\n",
    "    \"\"\"\n",
    "    Read infile of type\n",
    "    N\n",
    "    x_1,y_1\n",
    "    x_2,y_2\n",
    "    ...\n",
    "    x_N,y_N\n",
    "    \n",
    "    For the travelling salesman problem. Returns\n",
    "    a numpy array of shape (N,2)\n",
    "    \"\"\"\n",
    "    f=open(file,'r')\n",
    "    header=f.readline()#.split('\\n')\n",
    "    n=int(header.strip('\\n'))\n",
    "    pos=[]\n",
    "    for i in np.arange(n):\n",
    "        line=f.readline()\n",
    "        pos.append([float(l) for l in line.split()])\n",
    "    f.close()\n",
    "    return np.array(pos)"
   ]
  },
  {
   "cell_type": "code",
   "execution_count": 3,
   "metadata": {
    "collapsed": true
   },
   "outputs": [],
   "source": [
    "def create_distance_matrix(xx):\n",
    "    \"\"\"\n",
    "    Vectorized creation of the distance matrix, computed\n",
    "    using Euclidean norm\n",
    "    \"\"\"\n",
    "    n=len(xx)\n",
    "    D=np.zeros((n,n))\n",
    "    for i in np.arange(n):\n",
    "        D[i,:]=np.linalg.norm((xx[:,np.newaxis]-xx[i]),axis=-1).flatten()\n",
    "    return D"
   ]
  },
  {
   "cell_type": "code",
   "execution_count": 106,
   "metadata": {
    "collapsed": true
   },
   "outputs": [],
   "source": [
    "df=pd.read_csv('/Users/rspeare/Dropbox/research/Machine Learning/kaggle/santa2015/data/gifts.csv')"
   ]
  },
  {
   "cell_type": "code",
   "execution_count": 110,
   "metadata": {
    "collapsed": false
   },
   "outputs": [
    {
     "name": "stdout",
     "output_type": "stream",
     "text": [
      "CPU times: user 929 µs, sys: 106 µs, total: 1.03 ms\n",
      "Wall time: 952 µs\n",
      "CPU times: user 742 µs, sys: 89 µs, total: 831 µs\n",
      "Wall time: 760 µs\n",
      "(100, 1, 101)\n"
     ]
    }
   ],
   "source": [
    "#%time pos=read_infile('data/tsp_100_1')\n",
    "%time pos=df[['Latitude','Longitude']].values[:100]\n",
    "%time demand=df[['Weight']].values[:100]\n",
    "NN=len(pos)\n",
    "MM=1\n",
    "Q=NN+MM\n",
    "print(NN,MM,Q)"
   ]
  },
  {
   "cell_type": "code",
   "execution_count": 111,
   "metadata": {
    "collapsed": false
   },
   "outputs": [
    {
     "data": {
      "image/png": "[encoded data removed]",
      "text/plain": [
       "<matplotlib.figure.Figure at 0x1091bca10>"
      ]
     },
     "metadata": {},
     "output_type": "display_data"
    }
   ],
   "source": [
    "plt.scatter(pos[:,0],pos[:,1],s=demand)\n",
    "plt.show()"
   ]
  },
  {
   "cell_type": "code",
   "execution_count": 112,
   "metadata": {
    "collapsed": false
   },
   "outputs": [
    {
     "name": "stdout",
     "output_type": "stream",
     "text": [
      "CPU times: user 3.35 ms, sys: 1.05 ms, total: 4.4 ms\n",
      "Wall time: 3.43 ms\n"
     ]
    }
   ],
   "source": [
    "%time D=create_distance_matrix(pos)"
   ]
  },
  {
   "cell_type": "code",
   "execution_count": 8,
   "metadata": {
    "collapsed": false
   },
   "outputs": [],
   "source": [
    "#df=pd.DataFrame(pos,columns=['x','y'])"
   ]
  },
  {
   "cell_type": "markdown",
   "metadata": {},
   "source": [
    "Binary edge variable: whether or not it is part of the tour\n",
    "$$ X_{ij} = 0,1 $$"
   ]
  },
  {
   "cell_type": "markdown",
   "metadata": {},
   "source": [
    "One ingoing and on outgoing edge for each node:\n",
    "$$ \\sum_j X_{ji} = \\sum_j X_{ij} =1 \\ \\forall \\ i$$\n",
    "M ingoing and outgoing edges for HOME BASE, since we have M salesmen\n",
    "$$ \\sum_j X_{j0} = \\sum_j X_{0j} =M$$"
   ]
  },
  {
   "cell_type": "markdown",
   "metadata": {},
   "source": [
    "Restriction on node flow:\n",
    "$$ y_{ij} \\le Q X_{ij} \\ \\ \\forall \\ i,j$$\n"
   ]
  },
  {
   "cell_type": "code",
   "execution_count": 320,
   "metadata": {
    "collapsed": false
   },
   "outputs": [
    {
     "ename": "IndentationError",
     "evalue": "expected an indented block (<ipython-input-320-89f56115b821>, line 23)",
     "output_type": "error",
     "traceback": [
      "\u001b[0;36m  File \u001b[0;32m\"<ipython-input-320-89f56115b821>\"\u001b[0;36m, line \u001b[0;32m23\u001b[0m\n\u001b[0;31m    m.update()\u001b[0m\n\u001b[0m              ^\u001b[0m\n\u001b[0;31mIndentationError\u001b[0m\u001b[0;31m:\u001b[0m expected an indented block\n"
     ]
    }
   ],
   "source": [
    "m=g.Model(\"mTSP\")\n",
    "X = [[m.addVar(vtype=g.GRB.BINARY,name='X_'+str(i)+'_'+str(j)) for i in np.arange(NN)] for j in np.arange(NN)]\n",
    "y = [[m.addVar(vtype=g.GRB.CONTINUOUS,name='y_'+str(i)+'_'+str(j)) for i in np.arange(NN)] for j in np.arange(NN)]\n",
    "#u = [m.addVar(vtype=g.GRB.INTEGER,name='u_'+str(i)) for i in np.arange(NN)]\n",
    "\n",
    "m.update()\n",
    "\n",
    "# Edges must come in and out,but not to itself\n",
    "for i in np.arange(1,NN):\n",
    "    m.addConstr(g.quicksum(X[i][:]) ==1)\n",
    "    m.addConstr(g.quicksum(X[:][i]) ==1)\n",
    "    m.addConstr(X[i][i]==0)\n",
    "    \n",
    "#Origin, zeroth position must be visited and left MM times\n",
    "m.addConstr(X[0][0]==0)\n",
    "m.addConstr(g.quicksum(X[0][:]) ==g.quicksum(X[:][0]) )\n",
    "#m.addConstr(g.quicksum(X[:][0]) ==MM)\n",
    "\n",
    "#for i in np.arange(NN):\n",
    "#    for j in np.arange(NN):\n",
    "#        m.addConstr(y[i][j] <= Q*X[i][j])\n",
    "#        m.addConstr(y[i][j] >= 0.0)\n",
    "m.update()\n",
    "\n",
    "# Edges must come in and out\n",
    "for i in np.arange(NN):\n",
    "    m.addConstr(g.quicksum(y[:][i])-g.quicksum(y[i][:]) == 0)\n",
    "#Origin, zeroth position must be visited and left MM times\n",
    "\n",
    "from itertools import chain\n",
    "#m.setObjective(g.quicksum(list(chain.from_iterable(X*D))))\n",
    "m.setObjective(g.quicksum([X[i][j]*D[i][j] for i in np.arange(NN) for j in np.arange(NN)]))\n",
    "\n",
    "m.update()"
   ]
  },
  {
   "cell_type": "code",
   "execution_count": 310,
   "metadata": {
    "collapsed": false
   },
   "outputs": [],
   "source": [
    "#[X[i][j]*D[i][j] for i in np.arange(NN) for j in np.arange(NN)]\n",
    "#m.setParam(\"TimeLimit\",100)"
   ]
  },
  {
   "cell_type": "code",
   "execution_count": 311,
   "metadata": {
    "collapsed": false
   },
   "outputs": [
    {
     "name": "stdout",
     "output_type": "stream",
     "text": [
      "Optimize a model with 20399 rows, 20000 columns and 49900 nonzeros\n",
      "Coefficient statistics:\n",
      "  Matrix range    [1e+00, 1e+02]\n",
      "  Objective range [4e-01, 4e+02]\n",
      "  Bounds range    [1e+00, 1e+00]\n",
      "  RHS range       [1e+00, 1e+00]\n",
      "Found heuristic solution: objective 12169\n",
      "Presolve removed 20399 rows and 20000 columns\n",
      "Presolve time: 0.02s\n",
      "Presolve: All rows and columns removed\n",
      "\n",
      "Explored 0 nodes (0 simplex iterations) in 0.03 seconds\n",
      "Thread count was 1 (of 4 available processors)\n",
      "\n",
      "Optimal solution found (tolerance 1.00e-04)\n",
      "Best objective 9.886067924657e+02, best bound 9.886067924657e+02, gap 0.0%\n"
     ]
    }
   ],
   "source": [
    "m.optimize()"
   ]
  },
  {
   "cell_type": "code",
   "execution_count": 312,
   "metadata": {
    "collapsed": false
   },
   "outputs": [],
   "source": [
    "#m.computeIIS()"
   ]
  },
  {
   "cell_type": "code",
   "execution_count": 313,
   "metadata": {
    "collapsed": false
   },
   "outputs": [],
   "source": [
    "decision=m.getVars()[:NN**2]\n",
    "flow=m.getVars()[NN**2:]"
   ]
  },
  {
   "cell_type": "code",
   "execution_count": 316,
   "metadata": {
    "collapsed": false
   },
   "outputs": [
    {
     "data": {
      "text/plain": [
       "(array([ 1,  2,  3,  4,  5,  6,  7,  8,  9, 10, 11, 12, 13, 14, 15, 16, 17,\n",
       "        18, 19, 20, 21, 22, 23, 24, 25, 26, 27, 28, 29, 30, 31, 32, 33, 34,\n",
       "        35, 36, 37, 38, 39, 40, 41, 42, 43, 44, 45, 46, 47, 48, 49, 50, 51,\n",
       "        52, 53, 54, 55, 56, 57, 58, 59, 60, 61, 62, 63, 64, 65, 66, 67, 68,\n",
       "        69, 70, 71, 72, 73, 74, 75, 76, 77, 78, 79, 80, 81, 82, 83, 84, 85,\n",
       "        86, 87, 88, 89, 90, 91, 92, 93, 94, 95, 96, 97, 98, 99]),\n",
       " array([96, 23, 85, 14, 43, 40, 32, 72, 82, 23, 88, 99, 44, 89, 62, 19, 68,\n",
       "        64, 16, 18, 34, 70, 10, 95, 38, 53, 30, 41, 73, 27, 68, 94, 75, 87,\n",
       "        77, 92,  0, 25, 98,  6, 28, 58, 78, 86, 51, 35, 60, 55, 59, 46, 69,\n",
       "        78, 26, 80, 48, 47,  9, 42, 31, 47, 66, 22, 95, 18, 83, 61, 35, 17,\n",
       "        51, 22, 48,  8, 96,  8, 33, 40, 35, 52,  4, 54, 85,  9, 65, 98,  3,\n",
       "        44, 34, 11, 14, 78, 93, 52, 91, 32, 63,  1, 80, 84, 12]))"
      ]
     },
     "execution_count": 316,
     "metadata": {},
     "output_type": "execute_result"
    }
   ],
   "source": [
    "np.where(np.reshape([d.x for d in decision],(NN,NN))>0)"
   ]
  },
  {
   "cell_type": "code",
   "execution_count": 317,
   "metadata": {
    "collapsed": false
   },
   "outputs": [
    {
     "data": {
      "text/plain": [
       "(array([], dtype=int64), array([], dtype=int64))"
      ]
     },
     "execution_count": 317,
     "metadata": {},
     "output_type": "execute_result"
    }
   ],
   "source": [
    "np.where(np.reshape([d.x for d in flow],(NN,NN))>0)"
   ]
  },
  {
   "cell_type": "code",
   "execution_count": 28,
   "metadata": {
    "collapsed": false
   },
   "outputs": [],
   "source": [
    "def build_tour(X):\n",
    "    trip=[[]]\n",
    "    notvisited=range(len(X))\n",
    "    dest=0\n",
    "    t=0\n",
    "    for i in np.arange(len(X)):\n",
    "        dest=np.where(decision[dest,:]>0)[0][0]\n",
    "        if dest in notvisited:\n",
    "            notvisited.remove(dest)\n",
    "            trip[t].append(dest)\n",
    "        else:\n",
    "            trip.append([])\n",
    "            t+=1\n",
    "            dest=notvisited[0]\n",
    "            trip[t].append(dest)\n",
    "    return trip"
   ]
  },
  {
   "cell_type": "code",
   "execution_count": 29,
   "metadata": {
    "collapsed": false
   },
   "outputs": [
    {
     "data": {
      "text/plain": [
       "[[1, 0], [2, 6, 2], [3, 9, 3], [4, 8]]"
      ]
     },
     "execution_count": 29,
     "metadata": {},
     "output_type": "execute_result"
    }
   ],
   "source": [
    "build_tour(decision)"
   ]
  },
  {
   "cell_type": "code",
   "execution_count": 30,
   "metadata": {
    "collapsed": false
   },
   "outputs": [
    {
     "data": {
      "text/plain": [
       "[[], [], [], [], [], [], [], [], [], []]"
      ]
     },
     "execution_count": 30,
     "metadata": {},
     "output_type": "execute_result"
    }
   ],
   "source": [
    "selected=[[] for i in range(NN)] \n",
    "selected"
   ]
  },
  {
   "cell_type": "code",
   "execution_count": null,
   "metadata": {
    "collapsed": true
   },
   "outputs": [],
   "source": [
    "for x,y"
   ]
  }
 ],
 "metadata": {
  "kernelspec": {
   "display_name": "Python 2",
   "language": "python",
   "name": "python2"
  },
  "language_info": {
   "codemirror_mode": {
    "name": "ipython",
    "version": 2
   },
   "file_extension": ".py",
   "mimetype": "text/x-python",
   "name": "python",
   "nbconvert_exporter": "python",
   "pygments_lexer": "ipython2",
   "version": "2.7.11"
  }
 },
 "nbformat": 4,
 "nbformat_minor": 0
}
